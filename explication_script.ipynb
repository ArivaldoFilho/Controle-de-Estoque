{
 "cells": [
  {
   "cell_type": "markdown",
   "metadata": {},
   "source": [
    "## Projeto feito por Arivaldo Filho\n",
    "\n",
    "## Project made by Arivaldo Filho\n",
    "\n",
    "# Estabelecendo conexão com o Banco de Dados\n",
    "\n",
    "# Establishing Connection to the Database"
   ]
  },
  {
   "cell_type": "markdown",
   "metadata": {},
   "source": [
    "Portuguese Version:\n",
    "\n",
    "O script começa importando a biblioteca pyodbc, que é usada para conectar-se a um banco de dados SQL Server.\n",
    "Define as informações de conexão, como o driver, nome do servidor e nome do banco de dados.\n",
    "\n",
    "English Version:\n",
    "\n",
    "The script starts by importing the pyodbc library, which is used to connect to a SQL Server database. It defines connection information such as the driver, server name, and database name."
   ]
  },
  {
   "cell_type": "code",
   "execution_count": 1,
   "metadata": {},
   "outputs": [
    {
     "name": "stdout",
     "output_type": "stream",
     "text": [
      "Connection successful\n"
     ]
    }
   ],
   "source": [
    "import pyodbc\n",
    "\n",
    "connection_data = (\n",
    "    \"Driver={SQL SERVER};\"\n",
    "    \"Server=Dell-Arivaldo;\"\n",
    "    \"Database=Loja_Eletronicos;\"\n",
    ")\n",
    "\n",
    "\n",
    "connection = pyodbc.connect(connection_data)\n",
    "print(\"Connection successful\")\n",
    "\n",
    "\n",
    "cursor = connection.cursor()"
   ]
  },
  {
   "cell_type": "markdown",
   "metadata": {},
   "source": [
    "# Funções para adicionar produto ao estoque\n",
    "\n",
    "# Functions to Add Products to Inventory"
   ]
  },
  {
   "cell_type": "markdown",
   "metadata": {},
   "source": [
    "Portuguese Version:\n",
    "\n",
    "add_product(code, name, price, quantity): Esta função recebe informações sobre um produto (código, nome, preço e quantidade) e insere esses dados na tabela de produtos no banco de dados.\n",
    "add_product_inventory(): Esta função coleta os detalhes do produto (código, nome, preço e quantidade) do usuário e chama adicionar_produto para adicionar o produto ao estoque no banco de dados.\n",
    "\n",
    "English Version:\n",
    "\n",
    "add_product(code, name, price, quantity): This function receives information about a product (code, name, price, and quantity) and inserts these data into the products table in the database.\n",
    "add_product_inventory(): This function collects product details (code, name, price, and quantity) from the user and calls add_product to add the product to the inventory in the database.\n"
   ]
  },
  {
   "cell_type": "code",
   "execution_count": 2,
   "metadata": {},
   "outputs": [],
   "source": [
    "def add_product(code, name, price, quantity):\n",
    "    command = f\"\"\"INSERT INTO PRODUCTS (CODIGO, DESCRITOR, PRECO, ESTOQUE) VALUES ({code}, '{name}', {price}, {quantity})\"\"\"\n",
    "    cursor.execute(command)\n",
    "    connection.commit()\n",
    "    return True\n",
    "\n",
    "def add_product_inventory():\n",
    "    code = int(input(\"Enter the product code to be added: \"))\n",
    "    name = input(\"Enter the product name: \")\n",
    "    price = float(input(\"Enter the product price: \"))\n",
    "    quantity = int(input(\"Enter the quantity to be added: \"))\n",
    "    add_product(code, name, price, quantity)\n",
    "    print(\"Product added to inventory successfully!\")\n"
   ]
  },
  {
   "cell_type": "markdown",
   "metadata": {},
   "source": [
    "# Funções para retirar o produto do estoque\n",
    "\n",
    "# Functions to Remove Products from Inventory"
   ]
  },
  {
   "cell_type": "markdown",
   "metadata": {},
   "source": [
    "Portuguese Version:\n",
    "\n",
    "remove_product(code, quantity): Esta função verifica se há estoque suficiente para o produto especificado pelo código. Se houver estoque suficiente, ele deduz a quantidade do estoque.\n",
    "remove_product_inventory(): Esta função coleta o código do produto e a quantidade a ser retirada do usuário e chama retirar_produto para retirar o produto do estoque.\n",
    "\n",
    "English Version:\n",
    "\n",
    "remove_product(code, quantity): This function checks if there is sufficient stock for the product specified by the code. If there is enough stock, it deducts the quantity from the inventory.\n",
    "remove_product_inventory(): This function collects the product code and the quantity to be removed from the user and calls remove_product to take the product out of the inventory.\n"
   ]
  },
  {
   "cell_type": "code",
   "execution_count": 3,
   "metadata": {},
   "outputs": [],
   "source": [
    "def remove_product(code, quantity):\n",
    "    command = f\"SELECT ESTOQUE FROM PRODUTOS WHERE CODIGO = {code}\"\n",
    "    cursor.execute(command)\n",
    "    result = cursor.fetchone()\n",
    "    \n",
    "    if result:\n",
    "        current_quantity = result[0]\n",
    "        if current_quantity >= quantity:\n",
    "            command = f\"UPDATE PRODUCTS SET ESTOQUE = ESTOQUE - {quantity} WHERE CODIGO = {code}\"\n",
    "            cursor.execute(command)\n",
    "            connection.commit()\n",
    "            return f\"Products removed from inventory successfully.\"\n",
    "        else:\n",
    "            return \"Insufficient quantity in stock for removal.\"\n",
    "    else:\n",
    "        return \"Product not found.\"\n",
    "    \n",
    "def remove_product_inventory():\n",
    "    code = int(input(\"Enter the product code to be removed: \"))\n",
    "    quantity = int(input(\"Enter the quantity to be removed: \"))\n",
    "    removal_result = remove_product(code, quantity)\n",
    "    print(removal_result)"
   ]
  },
  {
   "cell_type": "markdown",
   "metadata": {},
   "source": [
    "# Função para exibir o estoque\n",
    "\n",
    "# Function to Display Inventory"
   ]
  },
  {
   "cell_type": "markdown",
   "metadata": {},
   "source": [
    "Portuguese Version\n",
    "\n",
    "Esta função busca todos os produtos no banco de dados e exibe seus códigos, nomes, preços e quantidades em estoque.\n",
    "\n",
    "English Version\n",
    "\n",
    "This function retrieves all products from the database and displays their codes, names, prices, and stock quantities."
   ]
  },
  {
   "cell_type": "code",
   "execution_count": 4,
   "metadata": {},
   "outputs": [],
   "source": [
    "def display_inventory():\n",
    "    cursor.execute(\"SELECT CODIGO, DESCRITOR, PRECO, ESTOQUE FROM PRODUTOS\")\n",
    "    products = cursor.fetchall()\n",
    "    print(\"\\nInventory:\")\n",
    "    for product in products:\n",
    "        print(f\"Code: {product[0]}, Name: {product[1]}, Price: $ {product[2]:.2f}, Quantity: {product[3]}\")"
   ]
  },
  {
   "cell_type": "markdown",
   "metadata": {},
   "source": [
    "# Função para Processar a Compra\n",
    "\n",
    "# Function to Process Purchase"
   ]
  },
  {
   "cell_type": "markdown",
   "metadata": {},
   "source": [
    "Portuguese Version:\n",
    "\n",
    "Esta função permite que o usuário compre um produto. Ela verifica se o produto existe e se há estoque suficiente. Se todas as condições forem atendidas, a compra é registrada e o estoque é atualizado.\n",
    "\n",
    "English Version:\n",
    "\n",
    "This function allows the user to purchase a product. It checks if the product exists and if there is sufficient stock. If all conditions are met, the purchase is recorded, and the inventory is updated"
   ]
  },
  {
   "cell_type": "code",
   "execution_count": 5,
   "metadata": {},
   "outputs": [],
   "source": [
    "def process_purchase(code, quantity):\n",
    "    cursor.execute(f\"SELECT DESCRITOR, PRECO, ESTOQUE FROM PRODUCTS WHERE CODE = {code}\")\n",
    "    result = cursor.fetchone()\n",
    "    \n",
    "    if result:\n",
    "        name, price, stock_quantity = result\n",
    "        if stock_quantity >= quantity:\n",
    "            total = price * quantity\n",
    "            cursor.execute(f\"UPDATE PRODUTOS SET ESTOQUE = ESTOQUE - {quantity} WHERE CODIGO = {code}\")\n",
    "            connection.commit()\n",
    "            return f\"Purchase successful. Total: $ {total:.2f}\"\n",
    "        else:\n",
    "            return \"Insufficient quantity in stock.\"\n",
    "    else:\n",
    "        return \"Product not found.\""
   ]
  },
  {
   "cell_type": "markdown",
   "metadata": {},
   "source": [
    "# Coleta dos Dados do Usuário\n",
    "\n",
    "# User Data Collection"
   ]
  },
  {
   "cell_type": "markdown",
   "metadata": {},
   "source": [
    "Portuguese Version:\n",
    "\n",
    "O programa entra em um loop infinito que exibe um menu de opções ao usuário.\n",
    "O usuário pode escolher entre as opções para exibir o estoque, processar uma compra, adicionar um produto ao estoque, retirar um produto do estoque ou sair do programa.\n",
    "As funções correspondentes são chamadas de acordo com a opção selecionada pelo usuário.\n",
    "O loop continua até que o usuário escolha a opção de sair (5).\n",
    "\n",
    "English Version:\n",
    "\n",
    "The program enters an infinite loop that displays a menu of options to the user. The user can choose from the options to view the inventory, process a purchase, add a product to the inventory, remove a product from the inventory, or exit the program. The corresponding functions are called based on the option selected by the user. The loop continues until the user selects the exit option (5)."
   ]
  },
  {
   "cell_type": "code",
   "execution_count": null,
   "metadata": {},
   "outputs": [],
   "source": [
    "while True:\n",
    "    print(\"\\nOptions:\")\n",
    "    print(\"1. Display inventory\")\n",
    "    print(\"2. Process purchase\")\n",
    "    print(\"3. Add product to inventory\")\n",
    "    print(\"4. Remove product from inventory\")\n",
    "    print(\"5. Exit\")\n",
    "    \n",
    "    option = input(\"Choose an option: \")\n",
    "\n",
    "    if option == \"1\":\n",
    "        display_inventory()\n",
    "    elif option == \"2\":\n",
    "        code = int(input(\"Enter the product code to be purchased: \"))\n",
    "        quantity = int(input(\"Enter the quantity to be purchased: \"))\n",
    "        purchase_result = process_purchase(code, quantity)\n",
    "        print(purchase_result)\n",
    "    elif option == \"3\":\n",
    "        add_product_inventory()\n",
    "    elif option == \"4\":\n",
    "        remove_product_inventory()\n",
    "    elif option == \"5\":\n",
    "        break\n",
    "    else:\n",
    "        print(\"Invalid option. Please try again.\")"
   ]
  }
 ],
 "metadata": {
  "kernelspec": {
   "display_name": "venv-estrutura",
   "language": "python",
   "name": "python3"
  },
  "language_info": {
   "codemirror_mode": {
    "name": "ipython",
    "version": 3
   },
   "file_extension": ".py",
   "mimetype": "text/x-python",
   "name": "python",
   "nbconvert_exporter": "python",
   "pygments_lexer": "ipython3",
   "version": "3.11.4"
  },
  "orig_nbformat": 4
 },
 "nbformat": 4,
 "nbformat_minor": 2
}
